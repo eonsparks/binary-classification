{
 "cells": [
  {
   "cell_type": "code",
   "execution_count": 1,
   "id": "1e1c4231-9015-4826-a872-4e849522598c",
   "metadata": {},
   "outputs": [
    {
     "name": "stderr",
     "output_type": "stream",
     "text": [
      "c:\\Users\\USER\\anaconda3\\Lib\\site-packages\\sklearn\\datasets\\_openml.py:968: FutureWarning: The default value of `parser` will change from `'liac-arff'` to `'auto'` in 1.4. You can set `parser='auto'` to silence this warning. Therefore, an `ImportError` will be raised from 1.4 if the dataset is dense and pandas is not installed. Note that the pandas parser may return different data types. See the Notes Section in fetch_openml's API doc for details.\n",
      "  warn(\n"
     ]
    }
   ],
   "source": [
    "from sklearn.datasets import fetch_openml\n",
    "\n",
    "mnist = fetch_openml('mnist_784', as_frame=False)"
   ]
  },
  {
   "cell_type": "code",
   "execution_count": 2,
   "id": "522a4a2c",
   "metadata": {},
   "outputs": [],
   "source": [
    "import numpy as np\n",
    "import matplotlib.pyplot as plt\n",
    "from sklearn.datasets import fetch_openml\n",
    "from sklearn.model_selection import train_test_split, GridSearchCV\n",
    "from sklearn.neighbors import KNeighborsClassifier\n",
    "from sklearn.preprocessing import StandardScaler\n",
    "from scipy.ndimage import shift\n",
    "from sklearn.metrics import accuracy_score\n"
   ]
  },
  {
   "cell_type": "code",
   "execution_count": 3,
   "id": "6d44d06e",
   "metadata": {},
   "outputs": [],
   "source": [
    "X, y = mnist.data, mnist.target # x-images, y-digits\n",
    "y = y.astype(np.int8) # labels to numbers"
   ]
  },
  {
   "cell_type": "code",
   "execution_count": 4,
   "id": "f49c0198",
   "metadata": {},
   "outputs": [],
   "source": [
    "X_train, X_test, y_train, y_test = train_test_split(X, y, test_size=0.2, random_state=42)"
   ]
  },
  {
   "cell_type": "code",
   "execution_count": 5,
   "id": "79d37acc",
   "metadata": {},
   "outputs": [],
   "source": [
    "scaler = StandardScaler()\n",
    "X_train_scaled = scaler.fit_transform(X_train.astype(np.float64))\n",
    "X_test_scaled = scaler.transform(X_test.astype(np.float64))"
   ]
  },
  {
   "cell_type": "code",
   "execution_count": 6,
   "id": "104740d8",
   "metadata": {},
   "outputs": [],
   "source": [
    "def shift_image(image, direction):\n",
    "    image = image.reshape(28, 28)\n",
    "    if direction == \"up\":\n",
    "        return shift(image, [1,0], cval=0).reshape(-1)\n",
    "    if direction == \"down\":\n",
    "        return shift(image, [-1,0], cval=0).reshape(-1)\n",
    "    elif direction == \"left\":\n",
    "        return shift(image, [0,1], cval=0).reshape(-1)\n",
    "    elif direction == \"right\":\n",
    "        return shift(image, [0,-1], cval=0).reshape(-1)"
   ]
  },
  {
   "cell_type": "code",
   "execution_count": 7,
   "id": "33f31b56",
   "metadata": {},
   "outputs": [],
   "source": [
    "def augment_training_set(X_train, y_train):\n",
    "    X_augmented = []\n",
    "    y_augmented = []\n",
    "    \n",
    "    for i in range(len(X_train)):\n",
    "        original_image = X_train[i]\n",
    "        original_label = y_train[i]\n",
    "        \n",
    "        X_augmented.append(original_image)\n",
    "        y_augmented.append(original_label)\n",
    "        \n",
    "        for direction in [\"up\", \"down\", \"left\", \"right\"]:\n",
    "            shifted_image = shift_image(original_image, direction)\n",
    "            X_augmented.append(shifted_image)\n",
    "            y_augmented.append(original_label)\n",
    "            \n",
    "    return np.array(X_augmented), np.array(y_augmented)"
   ]
  },
  {
   "cell_type": "code",
   "execution_count": 8,
   "id": "389f3f90",
   "metadata": {},
   "outputs": [],
   "source": [
    "X_train_augmented, y_train_augmented = augment_training_set(X_train_scaled, y_train)"
   ]
  },
  {
   "cell_type": "code",
   "execution_count": null,
   "id": "0d15cfa5",
   "metadata": {},
   "outputs": [],
   "source": [
    "param_grid = {\n",
    "    'n_neighbors': [3, 4, 5, 6, 7],  \n",
    "    'weights': ['uniform', 'distance'] \n",
    "}"
   ]
  },
  {
   "cell_type": "code",
   "execution_count": null,
   "id": "dc94b100",
   "metadata": {},
   "outputs": [],
   "source": [
    "knn_clf = KNeighborsClassifier()\n",
    "grid_search = GridSearchCV(knn_clf, param_grid, cv=3, verbose=1, n_jobs=-1)"
   ]
  },
  {
   "cell_type": "code",
   "execution_count": null,
   "id": "c48c4203",
   "metadata": {},
   "outputs": [
    {
     "name": "stdout",
     "output_type": "stream",
     "text": [
      "Fitting 3 folds for each of 10 candidates, totalling 30 fits\n"
     ]
    }
   ],
   "source": [
    "grid_search.fit(X_train_augmented, y_train_augmented)"
   ]
  },
  {
   "cell_type": "code",
   "execution_count": null,
   "id": "96d136ba",
   "metadata": {},
   "outputs": [],
   "source": [
    "y_pred = grid_search.best_estimator_.predict(X_test_scaled)\n",
    "accuracy = accuracy_score(y_test, y_pred)"
   ]
  },
  {
   "cell_type": "code",
   "execution_count": null,
   "id": "764679de",
   "metadata": {},
   "outputs": [
    {
     "name": "stdout",
     "output_type": "stream",
     "text": [
      "Fitting 3 folds for each of 32 candidates, totalling 96 fits\n"
     ]
    }
   ],
   "source": [
    "print(\"Best hyperparameters:\", grid_search.best_params_)\n",
    "print(\"Test set accuracy with augmented data\", accuracy)"
   ]
  },
  {
   "cell_type": "code",
   "execution_count": null,
   "id": "4ee9aa6c",
   "metadata": {},
   "outputs": [
    {
     "name": "stdout",
     "output_type": "stream",
     "text": [
      "Best hyperparameters: {'n_neighbors': 4, 'weights': 'distance'}\n",
      "Test set accuracy: 0.9486428571428571\n"
     ]
    }
   ],
   "source": []
  },
  {
   "cell_type": "code",
   "execution_count": null,
   "id": "23441467",
   "metadata": {},
   "outputs": [],
   "source": []
  }
 ],
 "metadata": {
  "kernelspec": {
   "display_name": "Python 3 (ipykernel)",
   "language": "python",
   "name": "python3"
  },
  "language_info": {
   "codemirror_mode": {
    "name": "ipython",
    "version": 3
   },
   "file_extension": ".py",
   "mimetype": "text/x-python",
   "name": "python",
   "nbconvert_exporter": "python",
   "pygments_lexer": "ipython3",
   "version": "3.11.7"
  }
 },
 "nbformat": 4,
 "nbformat_minor": 5
}
